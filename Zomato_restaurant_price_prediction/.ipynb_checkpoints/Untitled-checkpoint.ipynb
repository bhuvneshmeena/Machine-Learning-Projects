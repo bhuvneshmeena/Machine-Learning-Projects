{
 "cells": [
  {
   "cell_type": "markdown",
   "id": "b31c419b",
   "metadata": {},
   "source": [
    "# "
   ]
  },
  {
   "cell_type": "markdown",
   "id": "64143476",
   "metadata": {},
   "source": [
    "# Zomato_restaurant_rating_prediction"
   ]
  },
  {
   "cell_type": "markdown",
   "id": "77f2ad0b",
   "metadata": {},
   "source": [
    "### 1. Importing Libraries"
   ]
  },
  {
   "cell_type": "code",
   "execution_count": 1,
   "id": "29fa2e73",
   "metadata": {},
   "outputs": [],
   "source": [
    "import pandas as pd\n",
    "import matplotlib.pyplot as plt\n",
    "import seaborn as sns\n",
    "from sklearn.preprocessing import MinMaxScaler\n",
    "%matplotlib inline"
   ]
  },
  {
   "cell_type": "code",
   "execution_count": 2,
   "id": "2bc58172",
   "metadata": {},
   "outputs": [],
   "source": [
    "df = pd.read_csv('zomato.csv')"
   ]
  },
  {
   "cell_type": "code",
   "execution_count": 3,
   "id": "b89d6e9d",
   "metadata": {},
   "outputs": [
    {
     "data": {
      "text/plain": [
       "(51717, 17)"
      ]
     },
     "execution_count": 3,
     "metadata": {},
     "output_type": "execute_result"
    }
   ],
   "source": [
    "df.shape"
   ]
  },
  {
   "cell_type": "code",
   "execution_count": 4,
   "id": "64a87b36",
   "metadata": {},
   "outputs": [
    {
     "data": {
      "text/html": [
       "<div>\n",
       "<style scoped>\n",
       "    .dataframe tbody tr th:only-of-type {\n",
       "        vertical-align: middle;\n",
       "    }\n",
       "\n",
       "    .dataframe tbody tr th {\n",
       "        vertical-align: top;\n",
       "    }\n",
       "\n",
       "    .dataframe thead th {\n",
       "        text-align: right;\n",
       "    }\n",
       "</style>\n",
       "<table border=\"1\" class=\"dataframe\">\n",
       "  <thead>\n",
       "    <tr style=\"text-align: right;\">\n",
       "      <th></th>\n",
       "      <th>url</th>\n",
       "      <th>address</th>\n",
       "      <th>name</th>\n",
       "      <th>online_order</th>\n",
       "      <th>book_table</th>\n",
       "      <th>rate</th>\n",
       "      <th>votes</th>\n",
       "      <th>phone</th>\n",
       "      <th>location</th>\n",
       "      <th>rest_type</th>\n",
       "      <th>dish_liked</th>\n",
       "      <th>cuisines</th>\n",
       "      <th>approx_cost(for two people)</th>\n",
       "      <th>reviews_list</th>\n",
       "      <th>menu_item</th>\n",
       "      <th>listed_in(type)</th>\n",
       "      <th>listed_in(city)</th>\n",
       "    </tr>\n",
       "  </thead>\n",
       "  <tbody>\n",
       "    <tr>\n",
       "      <th>0</th>\n",
       "      <td>https://www.zomato.com/bangalore/jalsa-banasha...</td>\n",
       "      <td>942, 21st Main Road, 2nd Stage, Banashankari, ...</td>\n",
       "      <td>Jalsa</td>\n",
       "      <td>Yes</td>\n",
       "      <td>Yes</td>\n",
       "      <td>4.1/5</td>\n",
       "      <td>775</td>\n",
       "      <td>080 42297555\\r\\n+91 9743772233</td>\n",
       "      <td>Banashankari</td>\n",
       "      <td>Casual Dining</td>\n",
       "      <td>Pasta, Lunch Buffet, Masala Papad, Paneer Laja...</td>\n",
       "      <td>North Indian, Mughlai, Chinese</td>\n",
       "      <td>800</td>\n",
       "      <td>[('Rated 4.0', 'RATED\\n  A beautiful place to ...</td>\n",
       "      <td>[]</td>\n",
       "      <td>Buffet</td>\n",
       "      <td>Banashankari</td>\n",
       "    </tr>\n",
       "    <tr>\n",
       "      <th>1</th>\n",
       "      <td>https://www.zomato.com/bangalore/spice-elephan...</td>\n",
       "      <td>2nd Floor, 80 Feet Road, Near Big Bazaar, 6th ...</td>\n",
       "      <td>Spice Elephant</td>\n",
       "      <td>Yes</td>\n",
       "      <td>No</td>\n",
       "      <td>4.1/5</td>\n",
       "      <td>787</td>\n",
       "      <td>080 41714161</td>\n",
       "      <td>Banashankari</td>\n",
       "      <td>Casual Dining</td>\n",
       "      <td>Momos, Lunch Buffet, Chocolate Nirvana, Thai G...</td>\n",
       "      <td>Chinese, North Indian, Thai</td>\n",
       "      <td>800</td>\n",
       "      <td>[('Rated 4.0', 'RATED\\n  Had been here for din...</td>\n",
       "      <td>[]</td>\n",
       "      <td>Buffet</td>\n",
       "      <td>Banashankari</td>\n",
       "    </tr>\n",
       "    <tr>\n",
       "      <th>2</th>\n",
       "      <td>https://www.zomato.com/SanchurroBangalore?cont...</td>\n",
       "      <td>1112, Next to KIMS Medical College, 17th Cross...</td>\n",
       "      <td>San Churro Cafe</td>\n",
       "      <td>Yes</td>\n",
       "      <td>No</td>\n",
       "      <td>3.8/5</td>\n",
       "      <td>918</td>\n",
       "      <td>+91 9663487993</td>\n",
       "      <td>Banashankari</td>\n",
       "      <td>Cafe, Casual Dining</td>\n",
       "      <td>Churros, Cannelloni, Minestrone Soup, Hot Choc...</td>\n",
       "      <td>Cafe, Mexican, Italian</td>\n",
       "      <td>800</td>\n",
       "      <td>[('Rated 3.0', \"RATED\\n  Ambience is not that ...</td>\n",
       "      <td>[]</td>\n",
       "      <td>Buffet</td>\n",
       "      <td>Banashankari</td>\n",
       "    </tr>\n",
       "    <tr>\n",
       "      <th>3</th>\n",
       "      <td>https://www.zomato.com/bangalore/addhuri-udupi...</td>\n",
       "      <td>1st Floor, Annakuteera, 3rd Stage, Banashankar...</td>\n",
       "      <td>Addhuri Udupi Bhojana</td>\n",
       "      <td>No</td>\n",
       "      <td>No</td>\n",
       "      <td>3.7/5</td>\n",
       "      <td>88</td>\n",
       "      <td>+91 9620009302</td>\n",
       "      <td>Banashankari</td>\n",
       "      <td>Quick Bites</td>\n",
       "      <td>Masala Dosa</td>\n",
       "      <td>South Indian, North Indian</td>\n",
       "      <td>300</td>\n",
       "      <td>[('Rated 4.0', \"RATED\\n  Great food and proper...</td>\n",
       "      <td>[]</td>\n",
       "      <td>Buffet</td>\n",
       "      <td>Banashankari</td>\n",
       "    </tr>\n",
       "    <tr>\n",
       "      <th>4</th>\n",
       "      <td>https://www.zomato.com/bangalore/grand-village...</td>\n",
       "      <td>10, 3rd Floor, Lakshmi Associates, Gandhi Baza...</td>\n",
       "      <td>Grand Village</td>\n",
       "      <td>No</td>\n",
       "      <td>No</td>\n",
       "      <td>3.8/5</td>\n",
       "      <td>166</td>\n",
       "      <td>+91 8026612447\\r\\n+91 9901210005</td>\n",
       "      <td>Basavanagudi</td>\n",
       "      <td>Casual Dining</td>\n",
       "      <td>Panipuri, Gol Gappe</td>\n",
       "      <td>North Indian, Rajasthani</td>\n",
       "      <td>600</td>\n",
       "      <td>[('Rated 4.0', 'RATED\\n  Very good restaurant ...</td>\n",
       "      <td>[]</td>\n",
       "      <td>Buffet</td>\n",
       "      <td>Banashankari</td>\n",
       "    </tr>\n",
       "  </tbody>\n",
       "</table>\n",
       "</div>"
      ],
      "text/plain": [
       "                                                 url  \\\n",
       "0  https://www.zomato.com/bangalore/jalsa-banasha...   \n",
       "1  https://www.zomato.com/bangalore/spice-elephan...   \n",
       "2  https://www.zomato.com/SanchurroBangalore?cont...   \n",
       "3  https://www.zomato.com/bangalore/addhuri-udupi...   \n",
       "4  https://www.zomato.com/bangalore/grand-village...   \n",
       "\n",
       "                                             address                   name  \\\n",
       "0  942, 21st Main Road, 2nd Stage, Banashankari, ...                  Jalsa   \n",
       "1  2nd Floor, 80 Feet Road, Near Big Bazaar, 6th ...         Spice Elephant   \n",
       "2  1112, Next to KIMS Medical College, 17th Cross...        San Churro Cafe   \n",
       "3  1st Floor, Annakuteera, 3rd Stage, Banashankar...  Addhuri Udupi Bhojana   \n",
       "4  10, 3rd Floor, Lakshmi Associates, Gandhi Baza...          Grand Village   \n",
       "\n",
       "  online_order book_table   rate  votes                             phone  \\\n",
       "0          Yes        Yes  4.1/5    775    080 42297555\\r\\n+91 9743772233   \n",
       "1          Yes         No  4.1/5    787                      080 41714161   \n",
       "2          Yes         No  3.8/5    918                    +91 9663487993   \n",
       "3           No         No  3.7/5     88                    +91 9620009302   \n",
       "4           No         No  3.8/5    166  +91 8026612447\\r\\n+91 9901210005   \n",
       "\n",
       "       location            rest_type  \\\n",
       "0  Banashankari        Casual Dining   \n",
       "1  Banashankari        Casual Dining   \n",
       "2  Banashankari  Cafe, Casual Dining   \n",
       "3  Banashankari          Quick Bites   \n",
       "4  Basavanagudi        Casual Dining   \n",
       "\n",
       "                                          dish_liked  \\\n",
       "0  Pasta, Lunch Buffet, Masala Papad, Paneer Laja...   \n",
       "1  Momos, Lunch Buffet, Chocolate Nirvana, Thai G...   \n",
       "2  Churros, Cannelloni, Minestrone Soup, Hot Choc...   \n",
       "3                                        Masala Dosa   \n",
       "4                                Panipuri, Gol Gappe   \n",
       "\n",
       "                         cuisines approx_cost(for two people)  \\\n",
       "0  North Indian, Mughlai, Chinese                         800   \n",
       "1     Chinese, North Indian, Thai                         800   \n",
       "2          Cafe, Mexican, Italian                         800   \n",
       "3      South Indian, North Indian                         300   \n",
       "4        North Indian, Rajasthani                         600   \n",
       "\n",
       "                                        reviews_list menu_item  \\\n",
       "0  [('Rated 4.0', 'RATED\\n  A beautiful place to ...        []   \n",
       "1  [('Rated 4.0', 'RATED\\n  Had been here for din...        []   \n",
       "2  [('Rated 3.0', \"RATED\\n  Ambience is not that ...        []   \n",
       "3  [('Rated 4.0', \"RATED\\n  Great food and proper...        []   \n",
       "4  [('Rated 4.0', 'RATED\\n  Very good restaurant ...        []   \n",
       "\n",
       "  listed_in(type) listed_in(city)  \n",
       "0          Buffet    Banashankari  \n",
       "1          Buffet    Banashankari  \n",
       "2          Buffet    Banashankari  \n",
       "3          Buffet    Banashankari  \n",
       "4          Buffet    Banashankari  "
      ]
     },
     "execution_count": 4,
     "metadata": {},
     "output_type": "execute_result"
    }
   ],
   "source": [
    "df.head()"
   ]
  },
  {
   "cell_type": "code",
   "execution_count": 5,
   "id": "75cfa448",
   "metadata": {},
   "outputs": [
    {
     "name": "stdout",
     "output_type": "stream",
     "text": [
      "<class 'pandas.core.frame.DataFrame'>\n",
      "RangeIndex: 51717 entries, 0 to 51716\n",
      "Data columns (total 17 columns):\n",
      " #   Column                       Non-Null Count  Dtype \n",
      "---  ------                       --------------  ----- \n",
      " 0   url                          51717 non-null  object\n",
      " 1   address                      51717 non-null  object\n",
      " 2   name                         51717 non-null  object\n",
      " 3   online_order                 51717 non-null  object\n",
      " 4   book_table                   51717 non-null  object\n",
      " 5   rate                         43942 non-null  object\n",
      " 6   votes                        51717 non-null  int64 \n",
      " 7   phone                        50509 non-null  object\n",
      " 8   location                     51696 non-null  object\n",
      " 9   rest_type                    51490 non-null  object\n",
      " 10  dish_liked                   23639 non-null  object\n",
      " 11  cuisines                     51672 non-null  object\n",
      " 12  approx_cost(for two people)  51371 non-null  object\n",
      " 13  reviews_list                 51717 non-null  object\n",
      " 14  menu_item                    51717 non-null  object\n",
      " 15  listed_in(type)              51717 non-null  object\n",
      " 16  listed_in(city)              51717 non-null  object\n",
      "dtypes: int64(1), object(16)\n",
      "memory usage: 6.7+ MB\n"
     ]
    }
   ],
   "source": [
    "df.info()"
   ]
  },
  {
   "cell_type": "code",
   "execution_count": 6,
   "id": "980cd36c",
   "metadata": {},
   "outputs": [
    {
     "data": {
      "text/html": [
       "<div>\n",
       "<style scoped>\n",
       "    .dataframe tbody tr th:only-of-type {\n",
       "        vertical-align: middle;\n",
       "    }\n",
       "\n",
       "    .dataframe tbody tr th {\n",
       "        vertical-align: top;\n",
       "    }\n",
       "\n",
       "    .dataframe thead th {\n",
       "        text-align: right;\n",
       "    }\n",
       "</style>\n",
       "<table border=\"1\" class=\"dataframe\">\n",
       "  <thead>\n",
       "    <tr style=\"text-align: right;\">\n",
       "      <th></th>\n",
       "      <th>votes</th>\n",
       "    </tr>\n",
       "  </thead>\n",
       "  <tbody>\n",
       "    <tr>\n",
       "      <th>count</th>\n",
       "      <td>51717.000000</td>\n",
       "    </tr>\n",
       "    <tr>\n",
       "      <th>mean</th>\n",
       "      <td>283.697527</td>\n",
       "    </tr>\n",
       "    <tr>\n",
       "      <th>std</th>\n",
       "      <td>803.838853</td>\n",
       "    </tr>\n",
       "    <tr>\n",
       "      <th>min</th>\n",
       "      <td>0.000000</td>\n",
       "    </tr>\n",
       "    <tr>\n",
       "      <th>25%</th>\n",
       "      <td>7.000000</td>\n",
       "    </tr>\n",
       "    <tr>\n",
       "      <th>50%</th>\n",
       "      <td>41.000000</td>\n",
       "    </tr>\n",
       "    <tr>\n",
       "      <th>75%</th>\n",
       "      <td>198.000000</td>\n",
       "    </tr>\n",
       "    <tr>\n",
       "      <th>max</th>\n",
       "      <td>16832.000000</td>\n",
       "    </tr>\n",
       "  </tbody>\n",
       "</table>\n",
       "</div>"
      ],
      "text/plain": [
       "              votes\n",
       "count  51717.000000\n",
       "mean     283.697527\n",
       "std      803.838853\n",
       "min        0.000000\n",
       "25%        7.000000\n",
       "50%       41.000000\n",
       "75%      198.000000\n",
       "max    16832.000000"
      ]
     },
     "execution_count": 6,
     "metadata": {},
     "output_type": "execute_result"
    }
   ],
   "source": [
    "df.describe()"
   ]
  },
  {
   "cell_type": "code",
   "execution_count": 7,
   "id": "9d23d6e7",
   "metadata": {},
   "outputs": [],
   "source": [
    "#Cleaning DataSet"
   ]
  },
  {
   "cell_type": "code",
   "execution_count": 8,
   "id": "b69f46a8",
   "metadata": {},
   "outputs": [],
   "source": [
    "#dropping unwanted columns\n",
    "df.drop(columns=['url','address','phone','menu_item','reviews_list'], inplace =True)"
   ]
  },
  {
   "cell_type": "code",
   "execution_count": 9,
   "id": "d92f32ee",
   "metadata": {},
   "outputs": [],
   "source": [
    "#renaming the columns\n",
    "df.rename(columns={'approx_cost(for two people)' : 'avg_cost','listed_in(city)': 'city','listed_in(type)': 'listed_type'}, inplace=True)"
   ]
  },
  {
   "cell_type": "code",
   "execution_count": 10,
   "id": "c825509d",
   "metadata": {},
   "outputs": [],
   "source": [
    "# Handling Duplicate Valuse\n",
    "df.duplicated().sum()\n",
    "df.drop_duplicates(inplace=True)"
   ]
  },
  {
   "cell_type": "code",
   "execution_count": 11,
   "id": "3eafec0e",
   "metadata": {},
   "outputs": [],
   "source": [
    "#Converting the Rate Column into int data Type from Object Data type\n",
    "def convert_to_rating(rate_str):\n",
    "    try:\n",
    "        return float(rate_str.split('/')[0])\n",
    "    except (ValueError, AttributeError):\n",
    "        return None\n",
    "df['rating'] = df['rate'].apply(convert_to_rating)\n",
    "df.drop(columns=['rate'], inplace=True)"
   ]
  },
  {
   "cell_type": "code",
   "execution_count": 12,
   "id": "ce51cdc1",
   "metadata": {},
   "outputs": [],
   "source": [
    "# Converting avg_cost into float data type\n",
    "def convert_with_commas_to_int(avg_cost_str):\n",
    "    try:\n",
    "        # Remove commas from the string\n",
    "        cleaned_value = avg_cost_str.replace(',', '')\n",
    "        # Convert to integer\n",
    "        return float(cleaned_value)\n",
    "    except (ValueError, AttributeError):\n",
    "        return None\n",
    "df['avg_cost'] = df['avg_cost'].apply(convert_with_commas_to_int)"
   ]
  },
  {
   "cell_type": "code",
   "execution_count": 13,
   "id": "54cc9bdb",
   "metadata": {},
   "outputs": [],
   "source": [
    "df.reset_index(drop=True, inplace=True) #removing index error"
   ]
  },
  {
   "cell_type": "code",
   "execution_count": 14,
   "id": "39f273be",
   "metadata": {},
   "outputs": [],
   "source": [
    "def clean_names(lst):\n",
    "    for i in range(0,len(lst)):\n",
    "        names = lst[i].split(\",\")\n",
    "        cleaned_names = [name.strip().title() for name in names]\n",
    "        lst[i]= \",\".join(cleaned_names)\n",
    "    "
   ]
  },
  {
   "cell_type": "code",
   "execution_count": 15,
   "id": "76e0a46b",
   "metadata": {},
   "outputs": [],
   "source": [
    "df[['cuisines','dish_liked','rest_type']] = df[['cuisines','dish_liked','rest_type']].astype(str)"
   ]
  },
  {
   "cell_type": "code",
   "execution_count": 16,
   "id": "630b2bfd",
   "metadata": {},
   "outputs": [
    {
     "name": "stderr",
     "output_type": "stream",
     "text": [
      "C:\\Users\\bhuwn\\AppData\\Local\\Temp\\ipykernel_11120\\2649607864.py:5: SettingWithCopyWarning: \n",
      "A value is trying to be set on a copy of a slice from a DataFrame\n",
      "\n",
      "See the caveats in the documentation: https://pandas.pydata.org/pandas-docs/stable/user_guide/indexing.html#returning-a-view-versus-a-copy\n",
      "  lst[i]= \",\".join(cleaned_names)\n"
     ]
    }
   ],
   "source": [
    "clean_names(df['cuisines'])\n",
    "clean_names(df['dish_liked'])\n",
    "clean_names(df['rest_type'])"
   ]
  },
  {
   "cell_type": "code",
   "execution_count": 17,
   "id": "97822022",
   "metadata": {},
   "outputs": [],
   "source": [
    "# Handling Missing Values"
   ]
  },
  {
   "cell_type": "code",
   "execution_count": 18,
   "id": "9e1ed199",
   "metadata": {},
   "outputs": [],
   "source": [
    "mean_avg_cost = df['avg_cost'].mean()\n",
    "mean_rating = df['rating'].mean()\n",
    "df['avg_cost'].fillna(mean_avg_cost,inplace=True)\n",
    "df['rating'].fillna(mean_rating,inplace=True)"
   ]
  },
  {
   "cell_type": "code",
   "execution_count": 19,
   "id": "246882d5",
   "metadata": {},
   "outputs": [],
   "source": [
    "#handling Location\n",
    "most_frequent_location = df['location'].mode().iloc[0]\n",
    "df['location'].fillna(most_frequent_location, inplace=True)"
   ]
  },
  {
   "cell_type": "markdown",
   "id": "067ec7ef",
   "metadata": {},
   "source": [
    "## 2. Exploratry Data Analysis"
   ]
  },
  {
   "cell_type": "markdown",
   "id": "9576503b",
   "metadata": {},
   "source": []
  },
  {
   "cell_type": "code",
   "execution_count": 20,
   "id": "39b87f06",
   "metadata": {},
   "outputs": [
    {
     "data": {
      "text/plain": [
       "Cafe Coffee Day      96\n",
       "Onesta               85\n",
       "Just Bake            73\n",
       "Empire Restaurant    71\n",
       "Five Star Chicken    70\n",
       "Name: name, dtype: int64"
      ]
     },
     "execution_count": 20,
     "metadata": {},
     "output_type": "execute_result"
    }
   ],
   "source": [
    "df.name.value_counts().head()"
   ]
  },
  {
   "cell_type": "code",
   "execution_count": 21,
   "id": "1fa044f5",
   "metadata": {
    "scrolled": false
   },
   "outputs": [
    {
     "data": {
      "text/plain": [
       "Text(0.5, 1.0, 'Name vs Number of Restaurant')"
      ]
     },
     "execution_count": 21,
     "metadata": {},
     "output_type": "execute_result"
    },
    {
     "data": {
      "image/png": "[encoded data removed]",
      "text/plain": [
       "<Figure size 640x480 with 1 Axes>"
      ]
     },
     "metadata": {},
     "output_type": "display_data"
    }
   ],
   "source": [
    "name_count = df.name.value_counts()\n",
    "name_count[:20].plot(kind='bar')\n",
    "plt.legend(['* Restaurants'])\n",
    "plt.xlabel(\"Name of Restaurant\")\n",
    "plt.ylabel(\"Count of Restaurants\")\n",
    "plt.title(\"Name vs Number of Restaurant\",fontsize =20, weight = 'bold')"
   ]
  },
  {
   "cell_type": "markdown",
   "id": "1dbce388",
   "metadata": {},
   "source": [
    "### 2"
   ]
  },
  {
   "cell_type": "code",
   "execution_count": 22,
   "id": "94c89aed",
   "metadata": {},
   "outputs": [],
   "source": [
    "# What are the most common types of cuisines available on Zomato?\n",
    "#there is need to check the Cuisine column and clean the data"
   ]
  },
  {
   "cell_type": "code",
   "execution_count": 23,
   "id": "11f2e7cc",
   "metadata": {},
   "outputs": [],
   "source": [
    "cuisine_counts = df.cuisines.str.split(',').explode().value_counts()"
   ]
  },
  {
   "cell_type": "code",
   "execution_count": 24,
   "id": "d714ff72",
   "metadata": {},
   "outputs": [
    {
     "data": {
      "text/plain": [
       "North Indian    21043\n",
       "Chinese         15516\n",
       "South Indian     8633\n",
       "Fast Food        8084\n",
       "Biryani          6475\n",
       "Continental      5742\n",
       "Desserts         5621\n",
       "Cafe             5297\n",
       "Beverages        4738\n",
       "Italian          3377\n",
       "Name: cuisines, dtype: int64"
      ]
     },
     "execution_count": 24,
     "metadata": {},
     "output_type": "execute_result"
    }
   ],
   "source": [
    "top_cuisines = cuisine_counts.head(10)\n",
    "top_cuisines"
   ]
  },
  {
   "cell_type": "code",
   "execution_count": 25,
   "id": "7d4c23aa",
   "metadata": {},
   "outputs": [
    {
     "data": {
      "text/plain": [
       "(-1.099999906887858,\n",
       " 1.0999999955660884,\n",
       " -1.099999994079064,\n",
       " 1.0999999992903184)"
      ]
     },
     "execution_count": 25,
     "metadata": {},
     "output_type": "execute_result"
    },
    {
     "data": {
      "image/png": "[encoded data removed]",
      "text/plain": [
       "<Figure size 800x800 with 1 Axes>"
      ]
     },
     "metadata": {},
     "output_type": "display_data"
    }
   ],
   "source": [
    "plt.figure(figsize=(8,8))\n",
    "plt.pie(top_cuisines,labels=top_cuisines.index,autopct='%1.1f%%')\n",
    "plt.title('Top 5 Most Common Cuisines')\n",
    "plt.axis('equal')"
   ]
  },
  {
   "cell_type": "markdown",
   "id": "62204e53",
   "metadata": {},
   "source": [
    "### 3. top dishes"
   ]
  },
  {
   "cell_type": "code",
   "execution_count": 26,
   "id": "632356ca",
   "metadata": {},
   "outputs": [
    {
     "data": {
      "text/plain": [
       "Nan           28014\n",
       "Pasta          3397\n",
       "Burgers        3015\n",
       "Cocktails      2813\n",
       "Pizza          2723\n",
       "Biryani        2086\n",
       "Coffee         1994\n",
       "Mocktails      1875\n",
       "Sandwiches     1675\n",
       "Paratha        1564\n",
       "Name: dish_liked, dtype: int64"
      ]
     },
     "execution_count": 26,
     "metadata": {},
     "output_type": "execute_result"
    }
   ],
   "source": [
    "dish_counts = df.dish_liked.str.split(',').explode().value_counts()\n",
    "top_dishes = dish_counts.head(10)\n",
    "top_dishes"
   ]
  },
  {
   "cell_type": "code",
   "execution_count": 27,
   "id": "366f4cef",
   "metadata": {},
   "outputs": [
    {
     "data": {
      "text/plain": [
       "(-1.0999999995896779,\n",
       " 1.0999999999804608,\n",
       " -1.0999999486260144,\n",
       " 1.0999989638924657)"
      ]
     },
     "execution_count": 27,
     "metadata": {},
     "output_type": "execute_result"
    },
    {
     "data": {
      "image/png": "[encoded data removed]",
      "text/plain": [
       "<Figure size 800x800 with 1 Axes>"
      ]
     },
     "metadata": {},
     "output_type": "display_data"
    }
   ],
   "source": [
    "plt.figure(figsize=(8,8))\n",
    "plt.pie(top_dishes,labels=top_dishes.index,autopct='%1.1f%%')\n",
    "plt.title('Top 5 Most Common Cuisines')\n",
    "plt.axis('equal')"
   ]
  },
  {
   "cell_type": "code",
   "execution_count": 28,
   "id": "8630f529",
   "metadata": {},
   "outputs": [],
   "source": [
    "df.to_excel('zomato_final.xlsx', index=False)"
   ]
  },
  {
   "cell_type": "code",
   "execution_count": 29,
   "id": "41fcd83d",
   "metadata": {},
   "outputs": [
    {
     "data": {
      "text/html": [
       "<div>\n",
       "<style scoped>\n",
       "    .dataframe tbody tr th:only-of-type {\n",
       "        vertical-align: middle;\n",
       "    }\n",
       "\n",
       "    .dataframe tbody tr th {\n",
       "        vertical-align: top;\n",
       "    }\n",
       "\n",
       "    .dataframe thead th {\n",
       "        text-align: right;\n",
       "    }\n",
       "</style>\n",
       "<table border=\"1\" class=\"dataframe\">\n",
       "  <thead>\n",
       "    <tr style=\"text-align: right;\">\n",
       "      <th></th>\n",
       "      <th>name</th>\n",
       "      <th>online_order</th>\n",
       "      <th>book_table</th>\n",
       "      <th>votes</th>\n",
       "      <th>location</th>\n",
       "      <th>rest_type</th>\n",
       "      <th>dish_liked</th>\n",
       "      <th>cuisines</th>\n",
       "      <th>avg_cost</th>\n",
       "      <th>listed_type</th>\n",
       "      <th>city</th>\n",
       "      <th>rating</th>\n",
       "    </tr>\n",
       "  </thead>\n",
       "  <tbody>\n",
       "    <tr>\n",
       "      <th>0</th>\n",
       "      <td>Jalsa</td>\n",
       "      <td>Yes</td>\n",
       "      <td>Yes</td>\n",
       "      <td>775</td>\n",
       "      <td>Banashankari</td>\n",
       "      <td>Casual Dining</td>\n",
       "      <td>Pasta,Lunch Buffet,Masala Papad,Paneer Lajawab...</td>\n",
       "      <td>North Indian,Mughlai,Chinese</td>\n",
       "      <td>800.0</td>\n",
       "      <td>Buffet</td>\n",
       "      <td>Banashankari</td>\n",
       "      <td>4.1</td>\n",
       "    </tr>\n",
       "    <tr>\n",
       "      <th>1</th>\n",
       "      <td>Spice Elephant</td>\n",
       "      <td>Yes</td>\n",
       "      <td>No</td>\n",
       "      <td>787</td>\n",
       "      <td>Banashankari</td>\n",
       "      <td>Casual Dining</td>\n",
       "      <td>Momos,Lunch Buffet,Chocolate Nirvana,Thai Gree...</td>\n",
       "      <td>Chinese,North Indian,Thai</td>\n",
       "      <td>800.0</td>\n",
       "      <td>Buffet</td>\n",
       "      <td>Banashankari</td>\n",
       "      <td>4.1</td>\n",
       "    </tr>\n",
       "    <tr>\n",
       "      <th>2</th>\n",
       "      <td>San Churro Cafe</td>\n",
       "      <td>Yes</td>\n",
       "      <td>No</td>\n",
       "      <td>918</td>\n",
       "      <td>Banashankari</td>\n",
       "      <td>Cafe,Casual Dining</td>\n",
       "      <td>Churros,Cannelloni,Minestrone Soup,Hot Chocola...</td>\n",
       "      <td>Cafe,Mexican,Italian</td>\n",
       "      <td>800.0</td>\n",
       "      <td>Buffet</td>\n",
       "      <td>Banashankari</td>\n",
       "      <td>3.8</td>\n",
       "    </tr>\n",
       "    <tr>\n",
       "      <th>3</th>\n",
       "      <td>Addhuri Udupi Bhojana</td>\n",
       "      <td>No</td>\n",
       "      <td>No</td>\n",
       "      <td>88</td>\n",
       "      <td>Banashankari</td>\n",
       "      <td>Quick Bites</td>\n",
       "      <td>Masala Dosa</td>\n",
       "      <td>South Indian,North Indian</td>\n",
       "      <td>300.0</td>\n",
       "      <td>Buffet</td>\n",
       "      <td>Banashankari</td>\n",
       "      <td>3.7</td>\n",
       "    </tr>\n",
       "    <tr>\n",
       "      <th>4</th>\n",
       "      <td>Grand Village</td>\n",
       "      <td>No</td>\n",
       "      <td>No</td>\n",
       "      <td>166</td>\n",
       "      <td>Basavanagudi</td>\n",
       "      <td>Casual Dining</td>\n",
       "      <td>Panipuri,Gol Gappe</td>\n",
       "      <td>North Indian,Rajasthani</td>\n",
       "      <td>600.0</td>\n",
       "      <td>Buffet</td>\n",
       "      <td>Banashankari</td>\n",
       "      <td>3.8</td>\n",
       "    </tr>\n",
       "  </tbody>\n",
       "</table>\n",
       "</div>"
      ],
      "text/plain": [
       "                    name online_order book_table  votes      location  \\\n",
       "0                  Jalsa          Yes        Yes    775  Banashankari   \n",
       "1         Spice Elephant          Yes         No    787  Banashankari   \n",
       "2        San Churro Cafe          Yes         No    918  Banashankari   \n",
       "3  Addhuri Udupi Bhojana           No         No     88  Banashankari   \n",
       "4          Grand Village           No         No    166  Basavanagudi   \n",
       "\n",
       "            rest_type                                         dish_liked  \\\n",
       "0       Casual Dining  Pasta,Lunch Buffet,Masala Papad,Paneer Lajawab...   \n",
       "1       Casual Dining  Momos,Lunch Buffet,Chocolate Nirvana,Thai Gree...   \n",
       "2  Cafe,Casual Dining  Churros,Cannelloni,Minestrone Soup,Hot Chocola...   \n",
       "3         Quick Bites                                        Masala Dosa   \n",
       "4       Casual Dining                                 Panipuri,Gol Gappe   \n",
       "\n",
       "                       cuisines  avg_cost listed_type          city  rating  \n",
       "0  North Indian,Mughlai,Chinese     800.0      Buffet  Banashankari     4.1  \n",
       "1     Chinese,North Indian,Thai     800.0      Buffet  Banashankari     4.1  \n",
       "2          Cafe,Mexican,Italian     800.0      Buffet  Banashankari     3.8  \n",
       "3     South Indian,North Indian     300.0      Buffet  Banashankari     3.7  \n",
       "4       North Indian,Rajasthani     600.0      Buffet  Banashankari     3.8  "
      ]
     },
     "execution_count": 29,
     "metadata": {},
     "output_type": "execute_result"
    }
   ],
   "source": [
    "df.head()"
   ]
  },
  {
   "cell_type": "markdown",
   "id": "85b75a02",
   "metadata": {},
   "source": [
    "### Restaurant Rating Prediction"
   ]
  },
  {
   "cell_type": "markdown",
   "id": "c8dd2499",
   "metadata": {},
   "source": [
    "##### Feature Engineering"
   ]
  },
  {
   "cell_type": "code",
   "execution_count": 30,
   "id": "109125b0",
   "metadata": {},
   "outputs": [],
   "source": [
    "df_encoded = df.copy()"
   ]
  },
  {
   "cell_type": "markdown",
   "id": "fcbd6672",
   "metadata": {},
   "source": [
    "##### online order, book table"
   ]
  },
  {
   "cell_type": "code",
   "execution_count": 31,
   "id": "39122640",
   "metadata": {},
   "outputs": [],
   "source": [
    "# Encoding Categorical Variables:\n",
    "        #Convert categorical variables like 'online_order', 'book_table', 'listed_type', and 'city' into numerical representations (binary encoding or one-hot encoding) to be used in the machine learning models."
   ]
  },
  {
   "cell_type": "code",
   "execution_count": 32,
   "id": "32e617d3",
   "metadata": {},
   "outputs": [],
   "source": [
    "# Convert 'online_order' and 'book_table' to binary (0: No, 1: Yes)\n",
    "df_encoded['online_order'] = df_encoded['online_order'].map({'No': 0, 'Yes': 1})\n",
    "df_encoded['book_table'] = df_encoded['book_table'].map({'No': 0, 'Yes': 1})"
   ]
  },
  {
   "cell_type": "markdown",
   "id": "0e841221",
   "metadata": {},
   "source": [
    "##### city,location"
   ]
  },
  {
   "cell_type": "code",
   "execution_count": 33,
   "id": "37c77298",
   "metadata": {},
   "outputs": [],
   "source": [
    "# Encoding \"city\" and \"location\""
   ]
  },
  {
   "cell_type": "code",
   "execution_count": 34,
   "id": "0dd737af",
   "metadata": {},
   "outputs": [],
   "source": [
    "#method 1 - in this method we are using frequency encoding on city and location column\n",
    "# Calculate the frequency of each city in the original DataFrame\n",
    "city_counts = df_encoded['city'].value_counts()\n",
    "\n",
    "# Map the frequency to the 'city' column to perform frequency encoding\n",
    "df_encoded['city_freq_encoded'] = df_encoded['city'].map(city_counts)\n",
    "\n",
    "# Calculate the frequency of each location in the original DataFrame\n",
    "location_counts = df_encoded['location'].value_counts()\n",
    "\n",
    "# Map the frequency to the 'location' column to perform frequency encoding\n",
    "df_encoded['location_freq_encoded'] = df_encoded['location'].map(location_counts)"
   ]
  },
  {
   "cell_type": "code",
   "execution_count": 35,
   "id": "0c5d2d91",
   "metadata": {},
   "outputs": [
    {
     "data": {
      "text/plain": [
       "\"df_encoded = pd.get_dummies(df_encoded, columns=['city', 'location'])\\ndf_encoded.drop(['location'], axis=1, inplace=True)\""
      ]
     },
     "execution_count": 35,
     "metadata": {},
     "output_type": "execute_result"
    }
   ],
   "source": [
    "# method 2\n",
    "'''df_encoded = pd.get_dummies(df_encoded, columns=['city', 'location'])\n",
    "df_encoded.drop(['location'], axis=1, inplace=True)'''"
   ]
  },
  {
   "cell_type": "markdown",
   "id": "7161285b",
   "metadata": {},
   "source": [
    "##### rest_type"
   ]
  },
  {
   "cell_type": "code",
   "execution_count": 36,
   "id": "13ee263e",
   "metadata": {},
   "outputs": [],
   "source": [
    "## one hot encoding\n",
    "# First, split the multiple values in each cell into separate values using ',' as the separator\n",
    "df_encoded['rest_type'] = df_encoded['rest_type'].str.split(',')"
   ]
  },
  {
   "cell_type": "code",
   "execution_count": 37,
   "id": "3987191a",
   "metadata": {},
   "outputs": [],
   "source": [
    "# Use the explode() function to expand the multiple values into separate rows\n",
    "df_encoded = df_encoded.explode('rest_type')"
   ]
  },
  {
   "cell_type": "code",
   "execution_count": 38,
   "id": "98b78e88",
   "metadata": {},
   "outputs": [],
   "source": [
    "# Now, apply one-hot encoding to the 'rest_type' column\n",
    "df_encoded = pd.get_dummies(df_encoded, columns=['rest_type'])"
   ]
  },
  {
   "cell_type": "code",
   "execution_count": 39,
   "id": "e1c14989",
   "metadata": {},
   "outputs": [],
   "source": [
    "# Reset the index to have consecutive row numbers\n",
    "df_encoded.reset_index(drop=True, inplace=True)"
   ]
  },
  {
   "cell_type": "markdown",
   "id": "74bcbe0d",
   "metadata": {},
   "source": [
    "##### dish_licked, cuisines"
   ]
  },
  {
   "cell_type": "code",
   "execution_count": 40,
   "id": "7ab64162",
   "metadata": {},
   "outputs": [],
   "source": [
    "# Extracting features from 'dish_liked'\n",
    "df_encoded['num_dishes_liked'] = df_encoded['dish_liked'].apply(lambda x: len(x.split(',')) if pd.notnull(x) else 0)\n",
    "\n",
    "# Extracting features from 'cuisines'\n",
    "df_encoded['num_cuisines'] = df_encoded['cuisines'].apply(lambda x: len(x.split(',')) if pd.notnull(x) else 0)\n",
    "\n"
   ]
  },
  {
   "cell_type": "code",
   "execution_count": 41,
   "id": "731b2569",
   "metadata": {},
   "outputs": [],
   "source": [
    "df_encoded.drop(['cuisines', 'dish_liked','location','city'], axis=1, inplace=True)"
   ]
  },
  {
   "cell_type": "code",
   "execution_count": 42,
   "id": "cad6a049",
   "metadata": {},
   "outputs": [
    {
     "data": {
      "text/html": [
       "<div>\n",
       "<style scoped>\n",
       "    .dataframe tbody tr th:only-of-type {\n",
       "        vertical-align: middle;\n",
       "    }\n",
       "\n",
       "    .dataframe tbody tr th {\n",
       "        vertical-align: top;\n",
       "    }\n",
       "\n",
       "    .dataframe thead th {\n",
       "        text-align: right;\n",
       "    }\n",
       "</style>\n",
       "<table border=\"1\" class=\"dataframe\">\n",
       "  <thead>\n",
       "    <tr style=\"text-align: right;\">\n",
       "      <th></th>\n",
       "      <th>name</th>\n",
       "      <th>online_order</th>\n",
       "      <th>book_table</th>\n",
       "      <th>votes</th>\n",
       "      <th>avg_cost</th>\n",
       "      <th>listed_type</th>\n",
       "      <th>rating</th>\n",
       "      <th>city_freq_encoded</th>\n",
       "      <th>location_freq_encoded</th>\n",
       "      <th>rest_type_Bakery</th>\n",
       "      <th>...</th>\n",
       "      <th>rest_type_Mess</th>\n",
       "      <th>rest_type_Microbrewery</th>\n",
       "      <th>rest_type_Nan</th>\n",
       "      <th>rest_type_Pop Up</th>\n",
       "      <th>rest_type_Pub</th>\n",
       "      <th>rest_type_Quick Bites</th>\n",
       "      <th>rest_type_Sweet Shop</th>\n",
       "      <th>rest_type_Takeaway</th>\n",
       "      <th>num_dishes_liked</th>\n",
       "      <th>num_cuisines</th>\n",
       "    </tr>\n",
       "  </thead>\n",
       "  <tbody>\n",
       "    <tr>\n",
       "      <th>0</th>\n",
       "      <td>Jalsa</td>\n",
       "      <td>1</td>\n",
       "      <td>1</td>\n",
       "      <td>775</td>\n",
       "      <td>800.0</td>\n",
       "      <td>Buffet</td>\n",
       "      <td>4.1</td>\n",
       "      <td>862</td>\n",
       "      <td>904</td>\n",
       "      <td>0</td>\n",
       "      <td>...</td>\n",
       "      <td>0</td>\n",
       "      <td>0</td>\n",
       "      <td>0</td>\n",
       "      <td>0</td>\n",
       "      <td>0</td>\n",
       "      <td>0</td>\n",
       "      <td>0</td>\n",
       "      <td>0</td>\n",
       "      <td>7</td>\n",
       "      <td>3</td>\n",
       "    </tr>\n",
       "    <tr>\n",
       "      <th>1</th>\n",
       "      <td>Spice Elephant</td>\n",
       "      <td>1</td>\n",
       "      <td>0</td>\n",
       "      <td>787</td>\n",
       "      <td>800.0</td>\n",
       "      <td>Buffet</td>\n",
       "      <td>4.1</td>\n",
       "      <td>862</td>\n",
       "      <td>904</td>\n",
       "      <td>0</td>\n",
       "      <td>...</td>\n",
       "      <td>0</td>\n",
       "      <td>0</td>\n",
       "      <td>0</td>\n",
       "      <td>0</td>\n",
       "      <td>0</td>\n",
       "      <td>0</td>\n",
       "      <td>0</td>\n",
       "      <td>0</td>\n",
       "      <td>7</td>\n",
       "      <td>3</td>\n",
       "    </tr>\n",
       "    <tr>\n",
       "      <th>2</th>\n",
       "      <td>San Churro Cafe</td>\n",
       "      <td>1</td>\n",
       "      <td>0</td>\n",
       "      <td>918</td>\n",
       "      <td>800.0</td>\n",
       "      <td>Buffet</td>\n",
       "      <td>3.8</td>\n",
       "      <td>862</td>\n",
       "      <td>904</td>\n",
       "      <td>0</td>\n",
       "      <td>...</td>\n",
       "      <td>0</td>\n",
       "      <td>0</td>\n",
       "      <td>0</td>\n",
       "      <td>0</td>\n",
       "      <td>0</td>\n",
       "      <td>0</td>\n",
       "      <td>0</td>\n",
       "      <td>0</td>\n",
       "      <td>7</td>\n",
       "      <td>3</td>\n",
       "    </tr>\n",
       "    <tr>\n",
       "      <th>3</th>\n",
       "      <td>San Churro Cafe</td>\n",
       "      <td>1</td>\n",
       "      <td>0</td>\n",
       "      <td>918</td>\n",
       "      <td>800.0</td>\n",
       "      <td>Buffet</td>\n",
       "      <td>3.8</td>\n",
       "      <td>862</td>\n",
       "      <td>904</td>\n",
       "      <td>0</td>\n",
       "      <td>...</td>\n",
       "      <td>0</td>\n",
       "      <td>0</td>\n",
       "      <td>0</td>\n",
       "      <td>0</td>\n",
       "      <td>0</td>\n",
       "      <td>0</td>\n",
       "      <td>0</td>\n",
       "      <td>0</td>\n",
       "      <td>7</td>\n",
       "      <td>3</td>\n",
       "    </tr>\n",
       "    <tr>\n",
       "      <th>4</th>\n",
       "      <td>Addhuri Udupi Bhojana</td>\n",
       "      <td>0</td>\n",
       "      <td>0</td>\n",
       "      <td>88</td>\n",
       "      <td>300.0</td>\n",
       "      <td>Buffet</td>\n",
       "      <td>3.7</td>\n",
       "      <td>862</td>\n",
       "      <td>904</td>\n",
       "      <td>0</td>\n",
       "      <td>...</td>\n",
       "      <td>0</td>\n",
       "      <td>0</td>\n",
       "      <td>0</td>\n",
       "      <td>0</td>\n",
       "      <td>0</td>\n",
       "      <td>1</td>\n",
       "      <td>0</td>\n",
       "      <td>0</td>\n",
       "      <td>1</td>\n",
       "      <td>2</td>\n",
       "    </tr>\n",
       "  </tbody>\n",
       "</table>\n",
       "<p>5 rows × 37 columns</p>\n",
       "</div>"
      ],
      "text/plain": [
       "                    name  online_order  book_table  votes  avg_cost  \\\n",
       "0                  Jalsa             1           1    775     800.0   \n",
       "1         Spice Elephant             1           0    787     800.0   \n",
       "2        San Churro Cafe             1           0    918     800.0   \n",
       "3        San Churro Cafe             1           0    918     800.0   \n",
       "4  Addhuri Udupi Bhojana             0           0     88     300.0   \n",
       "\n",
       "  listed_type  rating  city_freq_encoded  location_freq_encoded  \\\n",
       "0      Buffet     4.1                862                    904   \n",
       "1      Buffet     4.1                862                    904   \n",
       "2      Buffet     3.8                862                    904   \n",
       "3      Buffet     3.8                862                    904   \n",
       "4      Buffet     3.7                862                    904   \n",
       "\n",
       "   rest_type_Bakery  ...  rest_type_Mess  rest_type_Microbrewery  \\\n",
       "0                 0  ...               0                       0   \n",
       "1                 0  ...               0                       0   \n",
       "2                 0  ...               0                       0   \n",
       "3                 0  ...               0                       0   \n",
       "4                 0  ...               0                       0   \n",
       "\n",
       "   rest_type_Nan  rest_type_Pop Up  rest_type_Pub  rest_type_Quick Bites  \\\n",
       "0              0                 0              0                      0   \n",
       "1              0                 0              0                      0   \n",
       "2              0                 0              0                      0   \n",
       "3              0                 0              0                      0   \n",
       "4              0                 0              0                      1   \n",
       "\n",
       "   rest_type_Sweet Shop  rest_type_Takeaway  num_dishes_liked  num_cuisines  \n",
       "0                     0                   0                 7             3  \n",
       "1                     0                   0                 7             3  \n",
       "2                     0                   0                 7             3  \n",
       "3                     0                   0                 7             3  \n",
       "4                     0                   0                 1             2  \n",
       "\n",
       "[5 rows x 37 columns]"
      ]
     },
     "execution_count": 42,
     "metadata": {},
     "output_type": "execute_result"
    }
   ],
   "source": [
    "df_encoded.head()"
   ]
  },
  {
   "cell_type": "markdown",
   "id": "c966e887",
   "metadata": {},
   "source": [
    "##### listed_type"
   ]
  },
  {
   "cell_type": "code",
   "execution_count": 43,
   "id": "f19aef5b",
   "metadata": {},
   "outputs": [],
   "source": [
    "df_encoded = pd.get_dummies(df_encoded, columns=['listed_type'])"
   ]
  },
  {
   "cell_type": "markdown",
   "id": "cf833b7f",
   "metadata": {},
   "source": [
    "##### Feature Scaling:"
   ]
  },
  {
   "cell_type": "code",
   "execution_count": 44,
   "id": "a113cef9",
   "metadata": {},
   "outputs": [],
   "source": [
    "##If the numerical features have different scales, consider applying feature scaling (e.g., min-max scaling or standardization) to bring them to a similar range. This can improve the convergence and performance of certain machine learning algorithms."
   ]
  },
  {
   "cell_type": "code",
   "execution_count": 45,
   "id": "e7818e05",
   "metadata": {},
   "outputs": [],
   "source": [
    "#Applying Min-Max Scaling to 'avg_cost' and 'votes'\n",
    "scaler = MinMaxScaler()\n",
    "df_encoded[['avg_cost', 'votes']] = scaler.fit_transform(df_encoded[['avg_cost', 'votes']])"
   ]
  },
  {
   "cell_type": "code",
   "execution_count": 46,
   "id": "a0af4548",
   "metadata": {},
   "outputs": [],
   "source": [
    "from sklearn.preprocessing import LabelEncoder\n",
    "# Create a LabelEncoder instance\n",
    "label_encoder = LabelEncoder()\n",
    "\n",
    "# Fit and transform the 'name' column to label-encoded integers\n",
    "df_encoded['name_encoded'] = label_encoder.fit_transform(df_encoded['name'])\n",
    "\n",
    "# Drop the original 'name' column as it is no longer needed\n",
    "df_encoded.drop(['name'], axis=1, inplace=True)"
   ]
  },
  {
   "cell_type": "markdown",
   "id": "16736fe3",
   "metadata": {},
   "source": [
    "### Applying Machine Learning Model"
   ]
  },
  {
   "cell_type": "code",
   "execution_count": 47,
   "id": "2c36670b",
   "metadata": {},
   "outputs": [],
   "source": [
    "from sklearn.model_selection import train_test_split\n",
    "from sklearn.linear_model import LinearRegression\n",
    "from sklearn.tree import DecisionTreeRegressor\n",
    "from sklearn.ensemble import RandomForestRegressor\n",
    "from sklearn.metrics import mean_squared_error, r2_score\n",
    "from sklearn.metrics import r2_score"
   ]
  },
  {
   "cell_type": "code",
   "execution_count": 48,
   "id": "aec9c8d3",
   "metadata": {},
   "outputs": [],
   "source": [
    "# Split the data into training and testing sets\n",
    "X = df_encoded.drop(['rating'], axis=1)  # Features (input variables)\n",
    "y = df_encoded['rating']  # Target variable"
   ]
  },
  {
   "cell_type": "code",
   "execution_count": 49,
   "id": "eb90fe27",
   "metadata": {},
   "outputs": [],
   "source": [
    "X_train, X_test, y_train, y_test = train_test_split(X, y, test_size=0.2, random_state=42)"
   ]
  },
  {
   "cell_type": "code",
   "execution_count": 50,
   "id": "5f6c5c20",
   "metadata": {},
   "outputs": [
    {
     "name": "stdout",
     "output_type": "stream",
     "text": [
      "Linear Regression:\n",
      "Train Accuracy (R2 Score): 0.43282433159390665\n",
      "Test Accuracy (R2 Score): 0.42117089123844464\n",
      "\n",
      "Decision Tree Regression:\n",
      "Train Accuracy (R2 Score): 1.0\n",
      "Test Accuracy (R2 Score): 0.8737091630209207\n",
      "\n",
      "Random Forest Regression:\n",
      "Train Accuracy (R2 Score): 0.9902956876727289\n",
      "Test Accuracy (R2 Score): 0.9260648222352397\n"
     ]
    }
   ],
   "source": [
    "# Train Linear Regression model\n",
    "linear_reg = LinearRegression()\n",
    "linear_reg.fit(X_train, y_train)\n",
    "linear_reg_train_predictions = linear_reg.predict(X_train)\n",
    "linear_reg_test_predictions = linear_reg.predict(X_test)\n",
    "\n",
    "# Train Decision Tree Regression model\n",
    "decision_tree_reg = DecisionTreeRegressor(random_state=42)\n",
    "decision_tree_reg.fit(X_train, y_train)\n",
    "decision_tree_train_predictions = decision_tree_reg.predict(X_train)\n",
    "decision_tree_test_predictions = decision_tree_reg.predict(X_test)\n",
    "\n",
    "# Train Random Forest Regression model\n",
    "random_forest_reg = RandomForestRegressor(random_state=42)\n",
    "random_forest_reg.fit(X_train, y_train)\n",
    "random_forest_train_predictions = random_forest_reg.predict(X_train)\n",
    "random_forest_test_predictions = random_forest_reg.predict(X_test)\n",
    "\n",
    "# Calculate R2 score (accuracy) for each model\n",
    "linear_reg_train_accuracy = r2_score(y_train, linear_reg_train_predictions)\n",
    "linear_reg_test_accuracy = r2_score(y_test, linear_reg_test_predictions)\n",
    "\n",
    "decision_tree_train_accuracy = r2_score(y_train, decision_tree_train_predictions)\n",
    "decision_tree_test_accuracy = r2_score(y_test, decision_tree_test_predictions)\n",
    "\n",
    "random_forest_train_accuracy = r2_score(y_train, random_forest_train_predictions)\n",
    "random_forest_test_accuracy = r2_score(y_test, random_forest_test_predictions)\n",
    "\n",
    "# Print the accuracies\n",
    "print(\"Linear Regression:\")\n",
    "print(\"Train Accuracy (R2 Score):\", linear_reg_train_accuracy)\n",
    "print(\"Test Accuracy (R2 Score):\", linear_reg_test_accuracy)\n",
    "\n",
    "print(\"\\nDecision Tree Regression:\")\n",
    "print(\"Train Accuracy (R2 Score):\", decision_tree_train_accuracy)\n",
    "print(\"Test Accuracy (R2 Score):\", decision_tree_test_accuracy)\n",
    "\n",
    "print(\"\\nRandom Forest Regression:\")\n",
    "print(\"Train Accuracy (R2 Score):\", random_forest_train_accuracy)\n",
    "print(\"Test Accuracy (R2 Score):\", random_forest_test_accuracy)"
   ]
  },
  {
   "cell_type": "code",
   "execution_count": null,
   "id": "a1a9e414",
   "metadata": {},
   "outputs": [],
   "source": []
  },
  {
   "cell_type": "code",
   "execution_count": null,
   "id": "a1e2046b",
   "metadata": {},
   "outputs": [],
   "source": []
  }
 ],
 "metadata": {
  "kernelspec": {
   "display_name": "Python 3 (ipykernel)",
   "language": "python",
   "name": "python3"
  },
  "language_info": {
   "codemirror_mode": {
    "name": "ipython",
    "version": 3
   },
   "file_extension": ".py",
   "mimetype": "text/x-python",
   "name": "python",
   "nbconvert_exporter": "python",
   "pygments_lexer": "ipython3",
   "version": "3.11.3"
  },
  "toc": {
   "base_numbering": 1,
   "nav_menu": {},
   "number_sections": true,
   "sideBar": true,
   "skip_h1_title": false,
   "title_cell": "Table of Contents",
   "title_sidebar": "Contents",
   "toc_cell": false,
   "toc_position": {},
   "toc_section_display": true,
   "toc_window_display": false
  }
 },
 "nbformat": 4,
 "nbformat_minor": 5
}
