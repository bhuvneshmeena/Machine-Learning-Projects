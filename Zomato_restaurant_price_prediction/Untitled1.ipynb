{
 "cells": [
  {
   "cell_type": "code",
   "execution_count": 7,
   "id": "dc0671d1",
   "metadata": {},
   "outputs": [],
   "source": [
    "cuisine =  [\"north indian, Mughlai, Chinese\", \"Chinese, North Indian, Thai\", \"Cafe, Mexican, Italian\", \"South Indian, North Indian\", \"North Indian, Rajasthani\", \"Continental\", \"Finger Food\", \"Finger Food\", \"Finger Food\", \"Finger Food, North Indian, Continental\"]"
   ]
  },
  {
   "cell_type": "code",
   "execution_count": 8,
   "id": "f71d156d",
   "metadata": {},
   "outputs": [],
   "source": [
    "names = cuisine[0].split(',')"
   ]
  },
  {
   "cell_type": "code",
   "execution_count": 9,
   "id": "a1aa2697",
   "metadata": {},
   "outputs": [
    {
     "data": {
      "text/plain": [
       "['north indian', ' Mughlai', ' Chinese']"
      ]
     },
     "execution_count": 9,
     "metadata": {},
     "output_type": "execute_result"
    }
   ],
   "source": [
    "names"
   ]
  },
  {
   "cell_type": "code",
   "execution_count": 15,
   "id": "b47bf8c5",
   "metadata": {},
   "outputs": [],
   "source": [
    "cleaned_names = [name.strip().title() for name in names]"
   ]
  },
  {
   "cell_type": "code",
   "execution_count": 17,
   "id": "de2a5152",
   "metadata": {},
   "outputs": [
    {
     "data": {
      "text/plain": [
       "'North Indian,Mughlai,Chinese'"
      ]
     },
     "execution_count": 17,
     "metadata": {},
     "output_type": "execute_result"
    }
   ],
   "source": [
    "','.join(cleaned_names)"
   ]
  },
  {
   "cell_type": "code",
   "execution_count": null,
   "id": "c1b57f24",
   "metadata": {},
   "outputs": [],
   "source": []
  }
 ],
 "metadata": {
  "kernelspec": {
   "display_name": "Python 3 (ipykernel)",
   "language": "python",
   "name": "python3"
  },
  "language_info": {
   "codemirror_mode": {
    "name": "ipython",
    "version": 3
   },
   "file_extension": ".py",
   "mimetype": "text/x-python",
   "name": "python",
   "nbconvert_exporter": "python",
   "pygments_lexer": "ipython3",
   "version": "3.11.3"
  }
 },
 "nbformat": 4,
 "nbformat_minor": 5
}
